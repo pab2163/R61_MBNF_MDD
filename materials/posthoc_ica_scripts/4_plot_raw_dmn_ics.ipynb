{
 "cells": [
  {
   "cell_type": "code",
   "execution_count": 39,
   "id": "fd09e356",
   "metadata": {},
   "outputs": [],
   "source": [
    "from nilearn import image as nimg\n",
    "from nilearn import plotting \n",
    "from nilearn import masking\n",
    "import pandas as pd\n",
    "import matplotlib.pyplot as plt\n",
    "import os"
   ]
  },
  {
   "cell_type": "markdown",
   "id": "d51d52a2",
   "metadata": {},
   "source": [
    "# Import dataframe with info on selected ICs for rtBAND"
   ]
  },
  {
   "cell_type": "code",
   "execution_count": 14,
   "id": "25926681",
   "metadata": {},
   "outputs": [],
   "source": [
    "ic_df = pd.read_csv('rtbanda_mpfc_pcc_voxel_counts.csv')"
   ]
  },
  {
   "cell_type": "code",
   "execution_count": 15,
   "id": "5a7f2224",
   "metadata": {},
   "outputs": [
    {
     "data": {
      "text/html": [
       "<div>\n",
       "<style scoped>\n",
       "    .dataframe tbody tr th:only-of-type {\n",
       "        vertical-align: middle;\n",
       "    }\n",
       "\n",
       "    .dataframe tbody tr th {\n",
       "        vertical-align: top;\n",
       "    }\n",
       "\n",
       "    .dataframe thead th {\n",
       "        text-align: right;\n",
       "    }\n",
       "</style>\n",
       "<table border=\"1\" class=\"dataframe\">\n",
       "  <thead>\n",
       "    <tr style=\"text-align: right;\">\n",
       "      <th></th>\n",
       "      <th>Unnamed: 0</th>\n",
       "      <th>subid</th>\n",
       "      <th>dmn_ic</th>\n",
       "      <th>cen_ic</th>\n",
       "      <th>mpfc_voxels</th>\n",
       "      <th>pcc_voxels</th>\n",
       "    </tr>\n",
       "  </thead>\n",
       "  <tbody>\n",
       "    <tr>\n",
       "      <th>0</th>\n",
       "      <td>0</td>\n",
       "      <td>sub-rtBANDA049</td>\n",
       "      <td>7</td>\n",
       "      <td>4</td>\n",
       "      <td>645</td>\n",
       "      <td>436</td>\n",
       "    </tr>\n",
       "    <tr>\n",
       "      <th>1</th>\n",
       "      <td>1</td>\n",
       "      <td>sub-rtBANDA056</td>\n",
       "      <td>4</td>\n",
       "      <td>11</td>\n",
       "      <td>1347</td>\n",
       "      <td>44</td>\n",
       "    </tr>\n",
       "    <tr>\n",
       "      <th>2</th>\n",
       "      <td>2</td>\n",
       "      <td>sub-rtBANDA060</td>\n",
       "      <td>1</td>\n",
       "      <td>7</td>\n",
       "      <td>908</td>\n",
       "      <td>221</td>\n",
       "    </tr>\n",
       "    <tr>\n",
       "      <th>3</th>\n",
       "      <td>3</td>\n",
       "      <td>sub-rtBANDA066</td>\n",
       "      <td>2</td>\n",
       "      <td>15</td>\n",
       "      <td>1493</td>\n",
       "      <td>26</td>\n",
       "    </tr>\n",
       "    <tr>\n",
       "      <th>4</th>\n",
       "      <td>4</td>\n",
       "      <td>sub-rtBANDA073</td>\n",
       "      <td>9</td>\n",
       "      <td>10</td>\n",
       "      <td>1184</td>\n",
       "      <td>350</td>\n",
       "    </tr>\n",
       "    <tr>\n",
       "      <th>5</th>\n",
       "      <td>5</td>\n",
       "      <td>sub-rtBANDA088</td>\n",
       "      <td>21</td>\n",
       "      <td>1</td>\n",
       "      <td>613</td>\n",
       "      <td>456</td>\n",
       "    </tr>\n",
       "    <tr>\n",
       "      <th>6</th>\n",
       "      <td>6</td>\n",
       "      <td>sub-rtBANDA106</td>\n",
       "      <td>14</td>\n",
       "      <td>18</td>\n",
       "      <td>1373</td>\n",
       "      <td>57</td>\n",
       "    </tr>\n",
       "    <tr>\n",
       "      <th>7</th>\n",
       "      <td>7</td>\n",
       "      <td>sub-rtBANDA116</td>\n",
       "      <td>17</td>\n",
       "      <td>7</td>\n",
       "      <td>1567</td>\n",
       "      <td>60</td>\n",
       "    </tr>\n",
       "    <tr>\n",
       "      <th>8</th>\n",
       "      <td>8</td>\n",
       "      <td>sub-rtBANDA145</td>\n",
       "      <td>14</td>\n",
       "      <td>23</td>\n",
       "      <td>1359</td>\n",
       "      <td>128</td>\n",
       "    </tr>\n",
       "  </tbody>\n",
       "</table>\n",
       "</div>"
      ],
      "text/plain": [
       "   Unnamed: 0           subid  dmn_ic  cen_ic  mpfc_voxels  pcc_voxels\n",
       "0           0  sub-rtBANDA049       7       4          645         436\n",
       "1           1  sub-rtBANDA056       4      11         1347          44\n",
       "2           2  sub-rtBANDA060       1       7          908         221\n",
       "3           3  sub-rtBANDA066       2      15         1493          26\n",
       "4           4  sub-rtBANDA073       9      10         1184         350\n",
       "5           5  sub-rtBANDA088      21       1          613         456\n",
       "6           6  sub-rtBANDA106      14      18         1373          57\n",
       "7           7  sub-rtBANDA116      17       7         1567          60\n",
       "8           8  sub-rtBANDA145      14      23         1359         128"
      ]
     },
     "execution_count": 15,
     "metadata": {},
     "output_type": "execute_result"
    }
   ],
   "source": [
    "ic_df"
   ]
  },
  {
   "cell_type": "code",
   "execution_count": 40,
   "id": "5ea77d08",
   "metadata": {},
   "outputs": [],
   "source": [
    "os.system('mkdir dmn_ic_plots')\n",
    "for index, row in ic_df.iterrows():\n",
    "    ic_num = f\"{int(row['dmn_ic']):04}\"\n",
    "    dmn_output = nimg.load_img(f\"../../../rtBANDA/resting/ica_outputs/{row['subid']}.gica/groupmelodic.ica/melodic_IC_{ic_num}.nii.gz\")\n",
    "    plotting.plot_stat_map(stat_map_img=dmn_output, \n",
    "                           cut_coords=(-2, 49, 5),\n",
    "                           colorbar=True, threshold = 1, \n",
    "                           title = f\"{row['subid']}\",\n",
    "                           output_file = f\"dmn_ic_plots/{row['subid']}_dmn_icthresh1.png\")"
   ]
  },
  {
   "cell_type": "code",
   "execution_count": null,
   "id": "5b6a6f00",
   "metadata": {},
   "outputs": [],
   "source": []
  }
 ],
 "metadata": {
  "kernelspec": {
   "display_name": "Python 3 (ipykernel)",
   "language": "python",
   "name": "python3"
  },
  "language_info": {
   "codemirror_mode": {
    "name": "ipython",
    "version": 3
   },
   "file_extension": ".py",
   "mimetype": "text/x-python",
   "name": "python",
   "nbconvert_exporter": "python",
   "pygments_lexer": "ipython3",
   "version": "3.9.12"
  }
 },
 "nbformat": 4,
 "nbformat_minor": 5
}
